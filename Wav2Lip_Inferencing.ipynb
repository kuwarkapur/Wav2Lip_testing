{
  "nbformat": 4,
  "nbformat_minor": 0,
  "metadata": {
    "colab": {
      "provenance": [],
      "gpuType": "T4"
    },
    "kernelspec": {
      "name": "python3",
      "display_name": "Python 3"
    },
    "language_info": {
      "name": "python"
    },
    "accelerator": "GPU"
  },
  "cells": [
    {
      "cell_type": "markdown",
      "source": [
        "## **Installing dependencies**"
      ],
      "metadata": {
        "id": "tfqWfV7BBFto"
      }
    },
    {
      "cell_type": "code",
      "execution_count": 25,
      "metadata": {
        "colab": {
          "base_uri": "https://localhost:8080/"
        },
        "id": "IUEc27kAWCvz",
        "outputId": "4e818d8f-7978-4fd9-a768-f8a78c1c82d0"
      },
      "outputs": [
        {
          "output_type": "stream",
          "name": "stdout",
          "text": [
            "Requirement already satisfied: ffmpeg-python in /usr/local/lib/python3.10/dist-packages (0.2.0)\n",
            "Requirement already satisfied: future in /usr/local/lib/python3.10/dist-packages (from ffmpeg-python) (0.18.3)\n"
          ]
        }
      ],
      "source": [
        "!pip install ffmpeg-python"
      ]
    },
    {
      "cell_type": "code",
      "source": [
        "!pip install librosa==0.8.0"
      ],
      "metadata": {
        "colab": {
          "base_uri": "https://localhost:8080/"
        },
        "id": "ShZ3JjKItocZ",
        "outputId": "46544f28-7241-413d-f2bc-5f4b7189dd7f"
      },
      "execution_count": 29,
      "outputs": [
        {
          "output_type": "stream",
          "name": "stdout",
          "text": [
            "Requirement already satisfied: librosa==0.8.0 in /usr/local/lib/python3.10/dist-packages (0.8.0)\n",
            "Requirement already satisfied: audioread>=2.0.0 in /usr/local/lib/python3.10/dist-packages (from librosa==0.8.0) (3.0.0)\n",
            "Requirement already satisfied: numpy>=1.15.0 in /usr/local/lib/python3.10/dist-packages (from librosa==0.8.0) (1.23.5)\n",
            "Requirement already satisfied: scipy>=1.0.0 in /usr/local/lib/python3.10/dist-packages (from librosa==0.8.0) (1.10.1)\n",
            "Requirement already satisfied: scikit-learn!=0.19.0,>=0.14.0 in /usr/local/lib/python3.10/dist-packages (from librosa==0.8.0) (1.2.2)\n",
            "Requirement already satisfied: joblib>=0.14 in /usr/local/lib/python3.10/dist-packages (from librosa==0.8.0) (1.3.2)\n",
            "Requirement already satisfied: decorator>=3.0.0 in /usr/local/lib/python3.10/dist-packages (from librosa==0.8.0) (4.4.2)\n",
            "Requirement already satisfied: resampy>=0.2.2 in /usr/local/lib/python3.10/dist-packages (from librosa==0.8.0) (0.4.2)\n",
            "Requirement already satisfied: numba>=0.43.0 in /usr/local/lib/python3.10/dist-packages (from librosa==0.8.0) (0.56.4)\n",
            "Requirement already satisfied: soundfile>=0.9.0 in /usr/local/lib/python3.10/dist-packages (from librosa==0.8.0) (0.12.1)\n",
            "Requirement already satisfied: pooch>=1.0 in /usr/local/lib/python3.10/dist-packages (from librosa==0.8.0) (1.7.0)\n",
            "Requirement already satisfied: llvmlite<0.40,>=0.39.0dev0 in /usr/local/lib/python3.10/dist-packages (from numba>=0.43.0->librosa==0.8.0) (0.39.1)\n",
            "Requirement already satisfied: setuptools in /usr/local/lib/python3.10/dist-packages (from numba>=0.43.0->librosa==0.8.0) (67.7.2)\n",
            "Requirement already satisfied: platformdirs>=2.5.0 in /usr/local/lib/python3.10/dist-packages (from pooch>=1.0->librosa==0.8.0) (3.10.0)\n",
            "Requirement already satisfied: packaging>=20.0 in /usr/local/lib/python3.10/dist-packages (from pooch>=1.0->librosa==0.8.0) (23.1)\n",
            "Requirement already satisfied: requests>=2.19.0 in /usr/local/lib/python3.10/dist-packages (from pooch>=1.0->librosa==0.8.0) (2.31.0)\n",
            "Requirement already satisfied: threadpoolctl>=2.0.0 in /usr/local/lib/python3.10/dist-packages (from scikit-learn!=0.19.0,>=0.14.0->librosa==0.8.0) (3.2.0)\n",
            "Requirement already satisfied: cffi>=1.0 in /usr/local/lib/python3.10/dist-packages (from soundfile>=0.9.0->librosa==0.8.0) (1.15.1)\n",
            "Requirement already satisfied: pycparser in /usr/local/lib/python3.10/dist-packages (from cffi>=1.0->soundfile>=0.9.0->librosa==0.8.0) (2.21)\n",
            "Requirement already satisfied: charset-normalizer<4,>=2 in /usr/local/lib/python3.10/dist-packages (from requests>=2.19.0->pooch>=1.0->librosa==0.8.0) (3.2.0)\n",
            "Requirement already satisfied: idna<4,>=2.5 in /usr/local/lib/python3.10/dist-packages (from requests>=2.19.0->pooch>=1.0->librosa==0.8.0) (3.4)\n",
            "Requirement already satisfied: urllib3<3,>=1.21.1 in /usr/local/lib/python3.10/dist-packages (from requests>=2.19.0->pooch>=1.0->librosa==0.8.0) (2.0.4)\n",
            "Requirement already satisfied: certifi>=2017.4.17 in /usr/local/lib/python3.10/dist-packages (from requests>=2.19.0->pooch>=1.0->librosa==0.8.0) (2023.7.22)\n"
          ]
        }
      ]
    },
    {
      "cell_type": "code",
      "source": [
        "!git clone https://github.com/Rudrabha/Wav2Lip"
      ],
      "metadata": {
        "colab": {
          "base_uri": "https://localhost:8080/"
        },
        "id": "-MNlprfwWUi1",
        "outputId": "612e4dc0-302c-4df6-c8b6-c7eea008dee0"
      },
      "execution_count": 2,
      "outputs": [
        {
          "output_type": "stream",
          "name": "stdout",
          "text": [
            "Cloning into 'Wav2Lip'...\n",
            "remote: Enumerating objects: 363, done.\u001b[K\n",
            "remote: Counting objects: 100% (3/3), done.\u001b[K\n",
            "remote: Compressing objects: 100% (3/3), done.\u001b[K\n",
            "remote: Total 363 (delta 0), reused 1 (delta 0), pack-reused 360\u001b[K\n",
            "Receiving objects: 100% (363/363), 528.20 KiB | 8.25 MiB/s, done.\n",
            "Resolving deltas: 100% (198/198), done.\n"
          ]
        }
      ]
    },
    {
      "cell_type": "code",
      "source": [
        "!pip install -r /content/Wav2Lip/requirements.txt"
      ],
      "metadata": {
        "id": "hJwS-VkXWZI6"
      },
      "execution_count": null,
      "outputs": []
    },
    {
      "cell_type": "markdown",
      "source": [
        "## **Downloading Files for execution**"
      ],
      "metadata": {
        "id": "xmFlMWjMBU5g"
      }
    },
    {
      "cell_type": "code",
      "source": [
        "# .pth model file\n",
        "! gdown 1rfEs7u3wyHG7zu8s9kerHCzgKg8anVhG\n",
        "\n",
        "#trimmed video file\n",
        "! gdown 1BNJt3Jlyg2UV6KBiJlJTWQiK7DlsQP1a"
      ],
      "metadata": {
        "colab": {
          "base_uri": "https://localhost:8080/"
        },
        "id": "l0Sqd8uDdF5M",
        "outputId": "d0ef9b4a-d320-4497-8bf4-85c5cb11b655"
      },
      "execution_count": 43,
      "outputs": [
        {
          "output_type": "stream",
          "name": "stdout",
          "text": [
            "Downloading...\n",
            "From: https://drive.google.com/uc?id=1rfEs7u3wyHG7zu8s9kerHCzgKg8anVhG\n",
            "To: /content/Wav2Lip/wav2lip.pth\n",
            "100% 436M/436M [00:02<00:00, 217MB/s]\n"
          ]
        }
      ]
    },
    {
      "cell_type": "code",
      "source": [
        "cd /content/Wav2Lip"
      ],
      "metadata": {
        "colab": {
          "base_uri": "https://localhost:8080/"
        },
        "id": "xMEJp-0m-CJt",
        "outputId": "ff03f47a-a479-4b72-81ac-334bd9d52196"
      },
      "execution_count": 37,
      "outputs": [
        {
          "output_type": "stream",
          "name": "stdout",
          "text": [
            "/content/Wav2Lip\n"
          ]
        }
      ]
    },
    {
      "cell_type": "markdown",
      "source": [
        "## **Inferencing with your datapoints**"
      ],
      "metadata": {
        "id": "o6PCPZeGBhFl"
      }
    },
    {
      "cell_type": "code",
      "source": [
        "!python inference.py --checkpoint_path '/content/wav2lip.pth' --face '/content/Untitled video - Made with Clipchamp (1).mp4' --audio '/content/output10_out.wav'"
      ],
      "metadata": {
        "colab": {
          "base_uri": "https://localhost:8080/"
        },
        "id": "JpfFWS-8Wdbr",
        "outputId": "b301dbe4-3bc7-42dd-d2b8-e2184e3c6393"
      },
      "execution_count": 40,
      "outputs": [
        {
          "output_type": "stream",
          "name": "stdout",
          "text": [
            "Using cuda for inference.\n",
            "Reading video frames...\n",
            "Number of frames available for inference: 877\n",
            "(80, 2241)\n",
            "Length of mel chunks: 836\n",
            "  0% 0/7 [00:00<?, ?it/s]\n",
            "  0% 0/53 [00:00<?, ?it/s]\u001b[A\n",
            "  2% 1/53 [03:04<2:39:37, 184.18s/it]\u001b[A\n",
            "  4% 2/53 [03:07<1:06:13, 77.91s/it] \u001b[A\n",
            "  6% 3/53 [03:10<36:22, 43.65s/it]  \u001b[A\n",
            "  8% 4/53 [03:13<22:30, 27.55s/it]\u001b[A\n",
            "  9% 5/53 [03:16<14:55, 18.66s/it]\u001b[A\n",
            " 11% 6/53 [03:19<10:26, 13.34s/it]\u001b[A\n",
            " 13% 7/53 [03:22<07:40, 10.02s/it]\u001b[A\n",
            " 15% 8/53 [03:25<05:48,  7.75s/it]\u001b[A\n",
            " 17% 9/53 [03:28<04:34,  6.23s/it]\u001b[A\n",
            " 19% 10/53 [03:31<03:44,  5.23s/it]\u001b[A\n",
            " 21% 11/53 [03:34<03:13,  4.62s/it]\u001b[A\n",
            " 23% 12/53 [03:37<02:47,  4.08s/it]\u001b[A\n",
            " 25% 13/53 [03:40<02:28,  3.72s/it]\u001b[A\n",
            " 26% 14/53 [03:43<02:14,  3.46s/it]\u001b[A\n",
            " 28% 15/53 [03:46<02:05,  3.31s/it]\u001b[A\n",
            " 30% 16/53 [03:49<02:00,  3.27s/it]\u001b[A\n",
            " 32% 17/53 [03:52<01:53,  3.16s/it]\u001b[A\n",
            " 34% 18/53 [03:55<01:47,  3.06s/it]\u001b[A\n",
            " 36% 19/53 [03:57<01:43,  3.03s/it]\u001b[A\n",
            " 38% 20/53 [04:01<01:42,  3.10s/it]\u001b[A\n",
            " 40% 21/53 [04:04<01:37,  3.03s/it]\u001b[A\n",
            " 42% 22/53 [04:07<01:32,  2.99s/it]\u001b[A\n",
            " 43% 23/53 [04:09<01:28,  2.96s/it]\u001b[A\n",
            " 45% 24/53 [04:12<01:25,  2.96s/it]\u001b[A\n",
            " 47% 25/53 [04:16<01:24,  3.03s/it]\u001b[A\n",
            " 49% 26/53 [04:18<01:20,  2.98s/it]\u001b[A\n",
            " 51% 27/53 [04:21<01:16,  2.95s/it]\u001b[A\n",
            " 53% 28/53 [04:24<01:13,  2.96s/it]\u001b[A\n",
            " 55% 29/53 [04:28<01:13,  3.07s/it]\u001b[A\n",
            " 57% 30/53 [04:30<01:09,  3.01s/it]\u001b[A\n",
            " 58% 31/53 [04:33<01:05,  2.98s/it]\u001b[A\n",
            " 60% 32/53 [04:36<01:01,  2.94s/it]\u001b[A\n",
            " 62% 33/53 [04:39<00:58,  2.95s/it]\u001b[A\n",
            " 64% 34/53 [04:42<00:57,  3.02s/it]\u001b[A\n",
            " 66% 35/53 [04:45<00:53,  2.97s/it]\u001b[A\n",
            " 68% 36/53 [04:48<00:49,  2.94s/it]\u001b[A\n",
            " 70% 37/53 [04:51<00:46,  2.91s/it]\u001b[A\n",
            " 72% 38/53 [04:54<00:44,  2.95s/it]\u001b[A\n",
            " 74% 39/53 [04:57<00:42,  3.00s/it]\u001b[A\n",
            " 75% 40/53 [05:00<00:38,  2.95s/it]\u001b[A\n",
            " 77% 41/53 [05:03<00:34,  2.92s/it]\u001b[A\n",
            " 79% 42/53 [05:06<00:32,  2.91s/it]\u001b[A\n",
            " 81% 43/53 [05:09<00:29,  2.99s/it]\u001b[A\n",
            " 83% 44/53 [05:12<00:26,  2.95s/it]\u001b[A\n",
            " 85% 45/53 [05:15<00:23,  2.92s/it]\u001b[A\n",
            " 87% 46/53 [05:17<00:20,  2.91s/it]\u001b[A\n",
            " 89% 47/53 [05:20<00:17,  2.92s/it]\u001b[A\n",
            " 91% 48/53 [05:24<00:15,  3.01s/it]\u001b[A\n",
            " 92% 49/53 [05:26<00:11,  2.96s/it]\u001b[A\n",
            " 94% 50/53 [05:29<00:08,  2.94s/it]\u001b[A\n",
            " 96% 51/53 [05:32<00:05,  2.94s/it]\u001b[A\n",
            " 98% 52/53 [05:36<00:03,  3.05s/it]\u001b[A\n",
            "100% 53/53 [05:46<00:00,  6.53s/it]\n",
            "Load checkpoint from: /content/wav2lip.pth\n",
            "Model loaded\n",
            "100% 7/7 [06:11<00:00, 53.11s/it]\n",
            "ffmpeg version 4.4.2-0ubuntu0.22.04.1 Copyright (c) 2000-2021 the FFmpeg developers\n",
            "  built with gcc 11 (Ubuntu 11.2.0-19ubuntu1)\n",
            "  configuration: --prefix=/usr --extra-version=0ubuntu0.22.04.1 --toolchain=hardened --libdir=/usr/lib/x86_64-linux-gnu --incdir=/usr/include/x86_64-linux-gnu --arch=amd64 --enable-gpl --disable-stripping --enable-gnutls --enable-ladspa --enable-libaom --enable-libass --enable-libbluray --enable-libbs2b --enable-libcaca --enable-libcdio --enable-libcodec2 --enable-libdav1d --enable-libflite --enable-libfontconfig --enable-libfreetype --enable-libfribidi --enable-libgme --enable-libgsm --enable-libjack --enable-libmp3lame --enable-libmysofa --enable-libopenjpeg --enable-libopenmpt --enable-libopus --enable-libpulse --enable-librabbitmq --enable-librubberband --enable-libshine --enable-libsnappy --enable-libsoxr --enable-libspeex --enable-libsrt --enable-libssh --enable-libtheora --enable-libtwolame --enable-libvidstab --enable-libvorbis --enable-libvpx --enable-libwebp --enable-libx265 --enable-libxml2 --enable-libxvid --enable-libzimg --enable-libzmq --enable-libzvbi --enable-lv2 --enable-omx --enable-openal --enable-opencl --enable-opengl --enable-sdl2 --enable-pocketsphinx --enable-librsvg --enable-libmfx --enable-libdc1394 --enable-libdrm --enable-libiec61883 --enable-chromaprint --enable-frei0r --enable-libx264 --enable-shared\n",
            "  libavutil      56. 70.100 / 56. 70.100\n",
            "  libavcodec     58.134.100 / 58.134.100\n",
            "  libavformat    58. 76.100 / 58. 76.100\n",
            "  libavdevice    58. 13.100 / 58. 13.100\n",
            "  libavfilter     7.110.100 /  7.110.100\n",
            "  libswscale      5.  9.100 /  5.  9.100\n",
            "  libswresample   3.  9.100 /  3.  9.100\n",
            "  libpostproc    55.  9.100 / 55.  9.100\n",
            "\u001b[0;33mGuessed Channel Layout for Input Stream #0.0 : mono\n",
            "\u001b[0mInput #0, wav, from '/content/output10_out.wav':\n",
            "  Metadata:\n",
            "    encoder         : Lavf58.29.100\n",
            "  Duration: 00:00:28.00, bitrate: 705 kb/s\n",
            "  Stream #0:0: Audio: pcm_s16le ([1][0][0][0] / 0x0001), 44100 Hz, mono, s16, 705 kb/s\n",
            "Input #1, avi, from 'temp/result.avi':\n",
            "  Metadata:\n",
            "    software        : Lavf59.27.100\n",
            "  Duration: 00:00:27.87, start: 0.000000, bitrate: 2270 kb/s\n",
            "  Stream #1:0: Video: mpeg4 (Simple Profile) (DIVX / 0x58564944), yuv420p, 1280x720 [SAR 1:1 DAR 16:9], 2265 kb/s, 30 fps, 30 tbr, 30 tbn, 30 tbc\n",
            "Stream mapping:\n",
            "  Stream #1:0 -> #0:0 (mpeg4 (native) -> h264 (libx264))\n",
            "  Stream #0:0 -> #0:1 (pcm_s16le (native) -> aac (native))\n",
            "Press [q] to stop, [?] for help\n",
            "\u001b[1;36m[libx264 @ 0x59c25fb67ac0] \u001b[0m\u001b[0;33m-qscale is ignored, -crf is recommended.\n",
            "\u001b[0m\u001b[1;36m[libx264 @ 0x59c25fb67ac0] \u001b[0musing SAR=1/1\n",
            "\u001b[1;36m[libx264 @ 0x59c25fb67ac0] \u001b[0musing cpu capabilities: MMX2 SSE2Fast SSSE3 SSE4.2 AVX FMA3 BMI2 AVX2\n",
            "\u001b[1;36m[libx264 @ 0x59c25fb67ac0] \u001b[0mprofile High, level 3.1, 4:2:0, 8-bit\n",
            "\u001b[1;36m[libx264 @ 0x59c25fb67ac0] \u001b[0m264 - core 163 r3060 5db6aa6 - H.264/MPEG-4 AVC codec - Copyleft 2003-2021 - http://www.videolan.org/x264.html - options: cabac=1 ref=3 deblock=1:0:0 analyse=0x3:0x113 me=hex subme=7 psy=1 psy_rd=1.00:0.00 mixed_ref=1 me_range=16 chroma_me=1 trellis=1 8x8dct=1 cqm=0 deadzone=21,11 fast_pskip=1 chroma_qp_offset=-2 threads=3 lookahead_threads=1 sliced_threads=0 nr=0 decimate=1 interlaced=0 bluray_compat=0 constrained_intra=0 bframes=3 b_pyramid=2 b_adapt=1 b_bias=0 direct=1 weightb=1 open_gop=0 weightp=2 keyint=250 keyint_min=25 scenecut=40 intra_refresh=0 rc_lookahead=40 rc=crf mbtree=1 crf=23.0 qcomp=0.60 qpmin=0 qpmax=69 qpstep=4 ip_ratio=1.40 aq=1:1.00\n",
            "Output #0, mp4, to 'results/result_voice.mp4':\n",
            "  Metadata:\n",
            "    encoder         : Lavf58.76.100\n",
            "  Stream #0:0: Video: h264 (avc1 / 0x31637661), yuv420p(progressive), 1280x720 [SAR 1:1 DAR 16:9], q=2-31, 30 fps, 15360 tbn\n",
            "    Metadata:\n",
            "      encoder         : Lavc58.134.100 libx264\n",
            "    Side data:\n",
            "      cpb: bitrate max/min/avg: 0/0/0 buffer size: 0 vbv_delay: N/A\n",
            "  Stream #0:1: Audio: aac (LC) (mp4a / 0x6134706D), 44100 Hz, mono, fltp, 69 kb/s\n",
            "    Metadata:\n",
            "      encoder         : Lavc58.134.100 aac\n",
            "frame=  836 fps= 25 q=-1.0 Lsize=    3470kB time=00:00:27.98 bitrate=1015.9kbits/s speed=0.85x    \n",
            "video:3203kB audio:238kB subtitle:0kB other streams:0kB global headers:0kB muxing overhead: 0.850277%\n",
            "\u001b[1;36m[libx264 @ 0x59c25fb67ac0] \u001b[0mframe I:4     Avg QP:16.16  size: 23545\n",
            "\u001b[1;36m[libx264 @ 0x59c25fb67ac0] \u001b[0mframe P:456   Avg QP:20.66  size:  5532\n",
            "\u001b[1;36m[libx264 @ 0x59c25fb67ac0] \u001b[0mframe B:376   Avg QP:23.29  size:  1761\n",
            "\u001b[1;36m[libx264 @ 0x59c25fb67ac0] \u001b[0mconsecutive B-frames: 33.6% 15.6% 11.1% 39.7%\n",
            "\u001b[1;36m[libx264 @ 0x59c25fb67ac0] \u001b[0mmb I  I16..4: 42.0% 53.0%  5.1%\n",
            "\u001b[1;36m[libx264 @ 0x59c25fb67ac0] \u001b[0mmb P  I16..4:  1.3%  6.2%  0.2%  P16..4: 17.5%  5.5%  2.6%  0.0%  0.0%    skip:66.7%\n",
            "\u001b[1;36m[libx264 @ 0x59c25fb67ac0] \u001b[0mmb B  I16..4:  0.2%  1.0%  0.0%  B16..8: 20.4%  1.6%  0.2%  direct: 0.7%  skip:75.9%  L0:51.6% L1:45.4% BI: 2.9%\n",
            "\u001b[1;36m[libx264 @ 0x59c25fb67ac0] \u001b[0m8x8 transform intra:78.4% inter:81.8%\n",
            "\u001b[1;36m[libx264 @ 0x59c25fb67ac0] \u001b[0mcoded y,uvDC,uvAC intra: 29.5% 31.4% 5.3% inter: 4.5% 3.9% 0.0%\n",
            "\u001b[1;36m[libx264 @ 0x59c25fb67ac0] \u001b[0mi16 v,h,dc,p: 54% 24% 15%  8%\n",
            "\u001b[1;36m[libx264 @ 0x59c25fb67ac0] \u001b[0mi8 v,h,dc,ddl,ddr,vr,hd,vl,hu: 27% 17% 44%  2%  2%  2%  2%  2%  2%\n",
            "\u001b[1;36m[libx264 @ 0x59c25fb67ac0] \u001b[0mi4 v,h,dc,ddl,ddr,vr,hd,vl,hu: 28% 23% 14%  4%  8%  8%  8%  4%  3%\n",
            "\u001b[1;36m[libx264 @ 0x59c25fb67ac0] \u001b[0mi8c dc,h,v,p: 56% 19% 22%  3%\n",
            "\u001b[1;36m[libx264 @ 0x59c25fb67ac0] \u001b[0mWeighted P-Frames: Y:0.0% UV:0.0%\n",
            "\u001b[1;36m[libx264 @ 0x59c25fb67ac0] \u001b[0mref P L0: 72.4% 11.6% 11.6%  4.4%\n",
            "\u001b[1;36m[libx264 @ 0x59c25fb67ac0] \u001b[0mref B L0: 86.4% 10.8%  2.7%\n",
            "\u001b[1;36m[libx264 @ 0x59c25fb67ac0] \u001b[0mref B L1: 97.3%  2.7%\n",
            "\u001b[1;36m[libx264 @ 0x59c25fb67ac0] \u001b[0mkb/s:941.40\n",
            "\u001b[1;36m[aac @ 0x59c25fb72400] \u001b[0mQavg: 114.471\n"
          ]
        }
      ]
    },
    {
      "cell_type": "code",
      "source": [],
      "metadata": {
        "id": "LGxJe_OT-Fm9"
      },
      "execution_count": null,
      "outputs": []
    }
  ]
}